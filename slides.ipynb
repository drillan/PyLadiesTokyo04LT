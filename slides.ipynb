{
 "cells": [
  {
   "cell_type": "code",
   "execution_count": 1,
   "metadata": {
    "slideshow": {
     "slide_type": "skip"
    }
   },
   "outputs": [],
   "source": [
    "import dataclasses\n",
    "\n",
    "from IPython.core.magic import register_cell_magic\n",
    "\n",
    "\n",
    "@register_cell_magic\n",
    "def typecheck(line, cell):\n",
    "    from IPython import get_ipython\n",
    "    from mypy import api\n",
    "\n",
    "    cell = \"\\n\" + cell\n",
    "    mypy_result = api.run([\"-c\", cell] + line.split())\n",
    "\n",
    "    if mypy_result[0]:  # print mypy stdout\n",
    "        print(mypy_result[0])\n",
    "\n",
    "    if mypy_result[1]:  # print mypy stderr\n",
    "        print(mypy_result[1])\n",
    "\n",
    "    shell = get_ipython()\n",
    "    shell.run_cell(cell)"
   ]
  },
  {
   "cell_type": "markdown",
   "metadata": {
    "slideshow": {
     "slide_type": "slide"
    }
   },
   "source": [
    "# Data Classesをつかってみよう\n",
    "---\n",
    "PyLadies Tokyo - 4周年記念パーティ LT  \n",
    "2018/10/08 @コイニ―株式会社 \n",
    "\n",
    "driller@patraqushe"
   ]
  },
  {
   "cell_type": "markdown",
   "metadata": {
    "slideshow": {
     "slide_type": "subslide"
    }
   },
   "source": [
    "### だれ？\n",
    "\n",
    "なまえ: どりらん  \n",
    "本名: driller"
   ]
  },
  {
   "cell_type": "markdown",
   "metadata": {
    "slideshow": {
     "slide_type": "slide"
    }
   },
   "source": [
    "### 4周年おめでとうございます！\n",
    "<img src=\"https://2.bp.blogspot.com/-htnbSc4-56k/VkxNWZ0gH6I/AAAAAAAA0uc/PktW9maJb28/s800/candle_number4.png\" width=300, height=300>"
   ]
  },
  {
   "cell_type": "markdown",
   "metadata": {
    "slideshow": {
     "slide_type": "subslide"
    }
   },
   "source": [
    "### finpy\n",
    "\n",
    "* Python x 金融のコミュニティ\n",
    "* 今年で2周年  \n",
    "  PyLadies Tokyoの2歳年下\n",
    "* 10/27に[もくもく会](https://fin-py.connpass.com/event/102692/)やります\n",
    "\n",
    "<img src=\"https://github.com/fin-py/logo/blob/master/finpy_200x200.png?raw=true\" width=100 hight=100>"
   ]
  },
  {
   "cell_type": "markdown",
   "metadata": {
    "slideshow": {
     "slide_type": "slide"
    }
   },
   "source": [
    "## こんかいのおだい\n",
    "\n",
    "Pythonの新しい書き方をまなぶ"
   ]
  },
  {
   "cell_type": "markdown",
   "metadata": {
    "slideshow": {
     "slide_type": "subslide"
    }
   },
   "source": [
    "### 人類にはまだ早い？\n",
    "\n",
    "* 古いバージョンでは動作しない\n",
    "* 対応ライブラリが少ない\n",
    "* 配布したい場合にユーザ数が限定的となる"
   ]
  },
  {
   "cell_type": "markdown",
   "metadata": {
    "slideshow": {
     "slide_type": "subslide"
    }
   },
   "source": [
    "### 先手をとることの優位性\n",
    "* 早めに使うことで当事者意識が高まる  \n",
    "  生まれたときから知っている -> 記憶に残りやすい  \n",
    "  あとで知る -> アレなんだったっけ？\n",
    "* 技術の変化に耐性ができる  \n",
    "  古い技術に固執しない\n",
    "* ドヤれる"
   ]
  },
  {
   "cell_type": "markdown",
   "metadata": {
    "slideshow": {
     "slide_type": "subslide"
    }
   },
   "source": [
    "### 新しい書き方を知らない場合\n",
    "`os.path`を使ってすべての拡張子を再帰的に取得する処理"
   ]
  },
  {
   "cell_type": "code",
   "execution_count": 2,
   "metadata": {
    "slideshow": {
     "slide_type": "fragment"
    }
   },
   "outputs": [
    {
     "name": "stdout",
     "output_type": "stream",
     "text": [
      "['.tar', '.gz']\n"
     ]
    }
   ],
   "source": [
    "import os\n",
    "\n",
    "\n",
    "def get_suffix(filepath):\n",
    "    while True:\n",
    "        filepath, suffix = os.path.splitext(filepath)\n",
    "        if suffix:\n",
    "            yield suffix\n",
    "        else:\n",
    "            break\n",
    "\n",
    "\n",
    "suffixes = [x for x in get_suffix(\"dir/filename.tar.gz\")][::-1]\n",
    "print(suffixes)"
   ]
  },
  {
   "cell_type": "markdown",
   "metadata": {
    "slideshow": {
     "slide_type": "subslide"
    }
   },
   "source": [
    "### 新しい書き方を知ってる場合\n",
    "`pathlib`使おうぜ"
   ]
  },
  {
   "cell_type": "code",
   "execution_count": 3,
   "metadata": {
    "slideshow": {
     "slide_type": "fragment"
    }
   },
   "outputs": [
    {
     "data": {
      "text/plain": [
       "['.tar', '.gz']"
      ]
     },
     "execution_count": 3,
     "metadata": {},
     "output_type": "execute_result"
    }
   ],
   "source": [
    "import pathlib\n",
    "\n",
    "\n",
    "pathlib.Path(\"dir/filename.tar.gz\").suffixes"
   ]
  },
  {
   "cell_type": "markdown",
   "metadata": {
    "slideshow": {
     "slide_type": "slide"
    }
   },
   "source": [
    "## Data Classes"
   ]
  },
  {
   "cell_type": "markdown",
   "metadata": {
    "hidePrompt": true,
    "slideshow": {
     "slide_type": "subslide"
    }
   },
   "source": [
    "### Data Classes\n",
    "\n",
    "* PEP557 で提案され、Python3.7で実装\n",
    "* `__init__` や `__repr__` のような特殊メソッドを自動で追加\n",
    "* メンバ変数(フィールド)は型アノテーションで定義できる"
   ]
  },
  {
   "cell_type": "markdown",
   "metadata": {
    "slideshow": {
     "slide_type": "subslide"
    }
   },
   "source": [
    "### namedtupleとの違い\n",
    "* 属性をミュータブル(デフォルト)/イミュータブルにできる\n",
    "* 通常のクラスとして扱える  \n",
    "  namedtupleは継承が必用\n",
    "* `__init__`の処理をカスタマイズできる"
   ]
  },
  {
   "cell_type": "markdown",
   "metadata": {
    "slideshow": {
     "slide_type": "subslide"
    }
   },
   "source": [
    "### 従来の書き方\n",
    "#### Data Classesがないとき"
   ]
  },
  {
   "cell_type": "code",
   "execution_count": 4,
   "metadata": {
    "slideshow": {
     "slide_type": "fragment"
    }
   },
   "outputs": [],
   "source": [
    "class Card:\n",
    "    def __init__(self, rank: int, suit: str) -> None:\n",
    "        self.rank = rank\n",
    "        self.suit = suit"
   ]
  },
  {
   "cell_type": "markdown",
   "metadata": {
    "slideshow": {
     "slide_type": "fragment"
    }
   },
   "source": [
    "`__init__` の引数と `self.attr` の代入が冗長"
   ]
  },
  {
   "cell_type": "markdown",
   "metadata": {
    "slideshow": {
     "slide_type": "subslide"
    }
   },
   "source": [
    "#### Data Classesがあるとき"
   ]
  },
  {
   "cell_type": "code",
   "execution_count": 5,
   "metadata": {
    "slideshow": {
     "slide_type": "fragment"
    }
   },
   "outputs": [],
   "source": [
    "@dataclasses.dataclass\n",
    "class Card37:\n",
    "    rank: int\n",
    "    suit: str"
   ]
  },
  {
   "cell_type": "markdown",
   "metadata": {
    "slideshow": {
     "slide_type": "fragment"
    }
   },
   "source": [
    "すっきり！"
   ]
  },
  {
   "cell_type": "markdown",
   "metadata": {
    "slideshow": {
     "slide_type": "subslide"
    }
   },
   "source": [
    "### mypyで型チェック"
   ]
  },
  {
   "cell_type": "code",
   "execution_count": 6,
   "metadata": {
    "slideshow": {
     "slide_type": "fragment"
    }
   },
   "outputs": [
    {
     "name": "stdout",
     "output_type": "stream",
     "text": [
      "<string>:13: error: Argument 1 to \"Card37\" has incompatible type \"str\"; expected \"int\"\n",
      "\n"
     ]
    },
    {
     "data": {
      "text/plain": [
       "Card37(rank='A', suit='♦')"
      ]
     },
     "execution_count": 6,
     "metadata": {},
     "output_type": "execute_result"
    }
   ],
   "source": [
    "%%typecheck\n",
    "# https://gist.github.com/knowsuchagency/f7b2203dd613756a45f816d6809f01a6\n",
    "import dataclasses\n",
    "\n",
    "\n",
    "@dataclasses.dataclass\n",
    "class Card37:\n",
    "    rank: int\n",
    "    suit: str\n",
    "\n",
    "\n",
    "Card37(1, \"♥\")\n",
    "Card37(\"A\", \"♦\")"
   ]
  },
  {
   "cell_type": "markdown",
   "metadata": {
    "slideshow": {
     "slide_type": "subslide"
    }
   },
   "source": [
    "### \\_\\_repr\\_\\_の実装\n",
    "#### Data Classesがないとき"
   ]
  },
  {
   "cell_type": "code",
   "execution_count": 7,
   "metadata": {
    "slideshow": {
     "slide_type": "fragment"
    }
   },
   "outputs": [
    {
     "data": {
      "text/plain": [
       "<__main__.Card at 0x7fd694237b38>"
      ]
     },
     "execution_count": 7,
     "metadata": {},
     "output_type": "execute_result"
    }
   ],
   "source": [
    "Card(5, \"♠\")"
   ]
  },
  {
   "cell_type": "markdown",
   "metadata": {
    "slideshow": {
     "slide_type": "subslide"
    }
   },
   "source": [
    "#### Data Classesがあるとき"
   ]
  },
  {
   "cell_type": "code",
   "execution_count": 8,
   "metadata": {
    "slideshow": {
     "slide_type": "fragment"
    }
   },
   "outputs": [
    {
     "data": {
      "text/plain": [
       "Card37(rank=5, suit='♠')"
      ]
     },
     "execution_count": 8,
     "metadata": {},
     "output_type": "execute_result"
    }
   ],
   "source": [
    "Card37(5, \"♠\")"
   ]
  },
  {
   "cell_type": "markdown",
   "metadata": {
    "slideshow": {
     "slide_type": "subslide"
    }
   },
   "source": [
    "#### 従来のクラスで同じ機能を実装"
   ]
  },
  {
   "cell_type": "code",
   "execution_count": 9,
   "metadata": {
    "slideshow": {
     "slide_type": "fragment"
    }
   },
   "outputs": [
    {
     "data": {
      "text/plain": [
       "Card(rank=5, suit='♠')"
      ]
     },
     "execution_count": 9,
     "metadata": {},
     "output_type": "execute_result"
    }
   ],
   "source": [
    "class Card:\n",
    "    def __init__(self, rank: int, suit: str) -> None:\n",
    "        self.rank = rank\n",
    "        self.suit = suit\n",
    "\n",
    "    def __repr__(self):\n",
    "        return f\"{__class__.__name__}(rank={self.rank!r}, suit={self.suit!r})\"\n",
    "\n",
    "\n",
    "Card(5, \"♠\")"
   ]
  },
  {
   "cell_type": "markdown",
   "metadata": {
    "slideshow": {
     "slide_type": "fragment"
    }
   },
   "source": [
    "めんどくさい"
   ]
  },
  {
   "cell_type": "markdown",
   "metadata": {
    "slideshow": {
     "slide_type": "subslide"
    }
   },
   "source": [
    "### 特定のフィールドを比較対象から除外"
   ]
  },
  {
   "cell_type": "code",
   "execution_count": 10,
   "metadata": {
    "slideshow": {
     "slide_type": "fragment"
    }
   },
   "outputs": [
    {
     "data": {
      "text/plain": [
       "True"
      ]
     },
     "execution_count": 10,
     "metadata": {},
     "output_type": "execute_result"
    }
   ],
   "source": [
    "@dataclasses.dataclass\n",
    "class Card37:\n",
    "    rank: int\n",
    "    suit: str = dataclasses.field(compare=False)\n",
    "\n",
    "Card37(12, \"♥\") == Card37(12, \"♣\")"
   ]
  },
  {
   "cell_type": "markdown",
   "metadata": {
    "slideshow": {
     "slide_type": "subslide"
    }
   },
   "source": [
    "### order\n",
    "#### Data Classesがあるとき"
   ]
  },
  {
   "cell_type": "code",
   "execution_count": 11,
   "metadata": {
    "slideshow": {
     "slide_type": "fragment"
    }
   },
   "outputs": [
    {
     "name": "stdout",
     "output_type": "stream",
     "text": [
      "False\n"
     ]
    },
    {
     "data": {
      "text/plain": [
       "[Card37(rank=4, suit='♥'), Card37(rank=11, suit='♣')]"
      ]
     },
     "execution_count": 11,
     "metadata": {},
     "output_type": "execute_result"
    }
   ],
   "source": [
    "@dataclasses.dataclass(order=True)\n",
    "class Card37:\n",
    "    rank: int\n",
    "    suit: str\n",
    "\n",
    "\n",
    "c1 = Card37(11, \"♣\")\n",
    "c2 = Card37(4, \"♥\")\n",
    "\n",
    "print(c1 < c2)\n",
    "sorted([c1, c2])"
   ]
  },
  {
   "cell_type": "markdown",
   "metadata": {
    "slideshow": {
     "slide_type": "subslide"
    }
   },
   "source": [
    "#### Data Classesがないとき"
   ]
  },
  {
   "cell_type": "code",
   "execution_count": 12,
   "metadata": {
    "slideshow": {
     "slide_type": "fragment"
    }
   },
   "outputs": [
    {
     "name": "stdout",
     "output_type": "stream",
     "text": [
      "False\n"
     ]
    },
    {
     "data": {
      "text/plain": [
       "[Card(rank=4, suit='♥'), Card(rank=11, suit='♣')]"
      ]
     },
     "execution_count": 12,
     "metadata": {},
     "output_type": "execute_result"
    }
   ],
   "source": [
    "class Card:\n",
    "    def __init__(self, rank: int, suit: str) -> None:\n",
    "        self.rank = rank\n",
    "        self.suit = suit\n",
    "\n",
    "    def __repr__(self):\n",
    "        return f\"{__class__.__name__}(rank={self.rank!r}, suit={self.suit!r})\"\n",
    "\n",
    "    def __lt__(self, other):\n",
    "        return (self.rank, self.suit) < (other.rank, other.suit)\n",
    "\n",
    "\n",
    "c1 = Card(11, \"♣\")\n",
    "c2 = Card(4, \"♥\")\n",
    "\n",
    "print(c1 < c2)\n",
    "sorted([c1, c2])"
   ]
  },
  {
   "cell_type": "markdown",
   "metadata": {
    "slideshow": {
     "slide_type": "subslide"
    }
   },
   "source": [
    "### 継承"
   ]
  },
  {
   "cell_type": "code",
   "execution_count": 13,
   "metadata": {
    "slideshow": {
     "slide_type": "fragment"
    }
   },
   "outputs": [
    {
     "data": {
      "text/plain": [
       "Daifugo(rank=2, suit='♦', strength=15)"
      ]
     },
     "execution_count": 13,
     "metadata": {},
     "output_type": "execute_result"
    }
   ],
   "source": [
    "@dataclasses.dataclass(order=True)\n",
    "class Daifugo(Card37):\n",
    "    strength: int = 0\n",
    "\n",
    "    def __post_init__(self):\n",
    "        if self.rank < 3:\n",
    "            self.strength = self.rank + 13\n",
    "        else:\n",
    "            self.strength = self.rank\n",
    "\n",
    "\n",
    "Daifugo(2, \"♦\")"
   ]
  },
  {
   "cell_type": "markdown",
   "metadata": {
    "slideshow": {
     "slide_type": "subslide"
    }
   },
   "source": [
    "### イミュータブル"
   ]
  },
  {
   "cell_type": "code",
   "execution_count": 14,
   "metadata": {
    "slideshow": {
     "slide_type": "fragment"
    }
   },
   "outputs": [],
   "source": [
    "@dataclasses.dataclass(frozen=True)\n",
    "class Tax:\n",
    "    rate: float = 0.08\n",
    "\n",
    "tax = Tax()"
   ]
  },
  {
   "cell_type": "code",
   "execution_count": 16,
   "metadata": {
    "deletable": false,
    "editable": false,
    "run_control": {
     "frozen": true
    },
    "slideshow": {
     "slide_type": "fragment"
    }
   },
   "outputs": [
    {
     "ename": "FrozenInstanceError",
     "evalue": "cannot assign to field 'rate'",
     "output_type": "error",
     "traceback": [
      "\u001b[0;31m---------------------------------------------------------------------------\u001b[0m",
      "\u001b[0;31mFrozenInstanceError\u001b[0m                       Traceback (most recent call last)",
      "\u001b[0;32m<ipython-input-16-f248540f3307>\u001b[0m in \u001b[0;36m<module>\u001b[0;34m()\u001b[0m\n\u001b[0;32m----> 1\u001b[0;31m \u001b[0mtax\u001b[0m\u001b[0;34m.\u001b[0m\u001b[0mrate\u001b[0m \u001b[0;34m=\u001b[0m \u001b[0;36m0.1\u001b[0m\u001b[0;34m\u001b[0m\u001b[0m\n\u001b[0m",
      "\u001b[0;32m<string>\u001b[0m in \u001b[0;36m__setattr__\u001b[0;34m(self, name, value)\u001b[0m\n",
      "\u001b[0;31mFrozenInstanceError\u001b[0m: cannot assign to field 'rate'"
     ]
    }
   ],
   "source": [
    "tax.rate = 0.1"
   ]
  },
  {
   "cell_type": "markdown",
   "metadata": {
    "slideshow": {
     "slide_type": "subslide"
    }
   },
   "source": [
    "### 辞書のキーに使える"
   ]
  },
  {
   "cell_type": "code",
   "execution_count": 15,
   "metadata": {
    "slideshow": {
     "slide_type": "fragment"
    }
   },
   "outputs": [
    {
     "data": {
      "text/plain": [
       "{Tax(rate=0.08): 'japan'}"
      ]
     },
     "execution_count": 15,
     "metadata": {},
     "output_type": "execute_result"
    }
   ],
   "source": [
    "{tax: \"japan\"}"
   ]
  },
  {
   "cell_type": "markdown",
   "metadata": {
    "slideshow": {
     "slide_type": "subslide"
    }
   },
   "source": [
    "### \\_\\_post\\_init\\_\\_\n",
    "`__init__`の後の処理"
   ]
  },
  {
   "cell_type": "code",
   "execution_count": 16,
   "metadata": {
    "slideshow": {
     "slide_type": "fragment"
    }
   },
   "outputs": [
    {
     "data": {
      "text/plain": [
       "Card37(rank=11, suit='♣')"
      ]
     },
     "execution_count": 16,
     "metadata": {},
     "output_type": "execute_result"
    }
   ],
   "source": [
    "@dataclasses.dataclass\n",
    "class Card37:\n",
    "    rank: int\n",
    "    suit: str\n",
    "\n",
    "    def __post_init__(self):\n",
    "        suits = {\"spades\": \"♠\", \"hearts\": \"♥\", \"clubs\": \"♣\", \"diamonds\": \"♦\"}\n",
    "        self.suit = suits[self.suit]\n",
    "\n",
    "\n",
    "Card37(11, \"clubs\")"
   ]
  },
  {
   "cell_type": "markdown",
   "metadata": {
    "slideshow": {
     "slide_type": "subslide"
    }
   },
   "source": [
    "### InitVar\n",
    "`__init__`のみで使われる変数"
   ]
  },
  {
   "cell_type": "code",
   "execution_count": 17,
   "metadata": {
    "slideshow": {
     "slide_type": "fragment"
    }
   },
   "outputs": [
    {
     "data": {
      "text/plain": [
       "Card37(rank=4)"
      ]
     },
     "execution_count": 17,
     "metadata": {},
     "output_type": "execute_result"
    }
   ],
   "source": [
    "@dataclasses.dataclass\n",
    "class Card37:\n",
    "    rank: int\n",
    "    suit: dataclasses.InitVar[str]\n",
    "\n",
    "Card37(4, \"♥\")"
   ]
  },
  {
   "cell_type": "markdown",
   "metadata": {
    "slideshow": {
     "slide_type": "subslide"
    }
   },
   "source": [
    "### fields\n",
    "`Field`オブジェクトをタプルで返す"
   ]
  },
  {
   "cell_type": "code",
   "execution_count": 18,
   "metadata": {
    "slideshow": {
     "slide_type": "fragment"
    }
   },
   "outputs": [
    {
     "data": {
      "text/plain": [
       "(Field(name='rank',type=<class 'int'>,default=<dataclasses._MISSING_TYPE object at 0x7fd694244780>,default_factory=<dataclasses._MISSING_TYPE object at 0x7fd694244780>,init=True,repr=True,hash=None,compare=True,metadata=mappingproxy({}),_field_type=_FIELD),)"
      ]
     },
     "execution_count": 18,
     "metadata": {},
     "output_type": "execute_result"
    }
   ],
   "source": [
    "dataclasses.fields(Card37)"
   ]
  },
  {
   "cell_type": "markdown",
   "metadata": {
    "slideshow": {
     "slide_type": "subslide"
    }
   },
   "source": [
    "### astuple, asdict\n",
    "インスタンスをタプルや辞書に変換"
   ]
  },
  {
   "cell_type": "code",
   "execution_count": 19,
   "metadata": {
    "slideshow": {
     "slide_type": "fragment"
    }
   },
   "outputs": [
    {
     "data": {
      "text/plain": [
       "(1,)"
      ]
     },
     "execution_count": 19,
     "metadata": {},
     "output_type": "execute_result"
    }
   ],
   "source": [
    "dataclasses.astuple(Card37(1, \"♥\"))"
   ]
  },
  {
   "cell_type": "code",
   "execution_count": 20,
   "metadata": {
    "slideshow": {
     "slide_type": "fragment"
    }
   },
   "outputs": [
    {
     "data": {
      "text/plain": [
       "{'rank': 7}"
      ]
     },
     "execution_count": 20,
     "metadata": {},
     "output_type": "execute_result"
    }
   ],
   "source": [
    "dataclasses.asdict(Card37(7, \"♦\"))"
   ]
  },
  {
   "cell_type": "markdown",
   "metadata": {
    "slideshow": {
     "slide_type": "slide"
    }
   },
   "source": [
    "### さいごに\n",
    "\n",
    "本LTは __LT駆動学習__ です  \n",
    "\n",
    "1. いずれは使ってみたい、学んでみたい技術がある\n",
    "2. 発表できそうなイベントがある\n",
    "3. 先に発表することを決めてから学習する\n",
    "\n",
    "× いつかやってみよう  \n",
    "◯ やるキッカケを先に作ってしまう"
   ]
  },
  {
   "cell_type": "markdown",
   "metadata": {
    "slideshow": {
     "slide_type": "subslide"
    }
   },
   "source": [
    "### 参考\n",
    "* [dataclasses --- データクラス](https://docs.python.org/ja/3/library/dataclasses.html)\n",
    "* [Python3.7の新機能 Data Classes](https://qiita.com/massa142/items/6dbfeb88092dea4f95d8)\n",
    "* [Python3.7からは「Data Classes」がクラス定義のスタンダードになるかもしれない](https://qiita.com/tag1216/items/13b032348c893667862a)"
   ]
  }
 ],
 "metadata": {
  "celltoolbar": "Slideshow",
  "kernelspec": {
   "display_name": "Python 3",
   "language": "python",
   "name": "python3"
  },
  "language_info": {
   "codemirror_mode": {
    "name": "ipython",
    "version": 3
   },
   "file_extension": ".py",
   "mimetype": "text/x-python",
   "name": "python",
   "nbconvert_exporter": "python",
   "pygments_lexer": "ipython3",
   "version": "3.7.0"
  }
 },
 "nbformat": 4,
 "nbformat_minor": 2
}
