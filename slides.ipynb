{
 "cells": [
  {
   "cell_type": "code",
   "execution_count": 1,
   "metadata": {
    "slideshow": {
     "slide_type": "skip"
    }
   },
   "outputs": [],
   "source": [
    "from IPython.core.magic import register_cell_magic\n",
    "\n",
    "\n",
    "@register_cell_magic\n",
    "def typecheck(line, cell):\n",
    "    from IPython import get_ipython\n",
    "    from mypy import api\n",
    "\n",
    "    cell = \"\\n\" + cell\n",
    "    mypy_result = api.run([\"-c\", cell] + line.split())\n",
    "\n",
    "    if mypy_result[0]:  # print mypy stdout\n",
    "        print(mypy_result[0])\n",
    "\n",
    "    if mypy_result[1]:  # print mypy stderr\n",
    "        print(mypy_result[1])\n",
    "\n",
    "    shell = get_ipython()\n",
    "    shell.run_cell(cell)"
   ]
  },
  {
   "cell_type": "code",
   "execution_count": 2,
   "metadata": {
    "slideshow": {
     "slide_type": "skip"
    }
   },
   "outputs": [],
   "source": [
    "import dataclasses"
   ]
  },
  {
   "cell_type": "markdown",
   "metadata": {
    "slideshow": {
     "slide_type": "slide"
    }
   },
   "source": [
    "# Data Classesをつかってみよう\n",
    "---\n",
    "PyLadies Tokyo - 4周年記念パーティ LT  \n",
    "2018/10/01 @コイニ―株式会社 \n",
    "\n",
    "driller@patraqushe"
   ]
  },
  {
   "cell_type": "markdown",
   "metadata": {
    "slideshow": {
     "slide_type": "slide"
    }
   },
   "source": [
    "### だれ？\n",
    "\n",
    "* なまえ: どりらん\n",
    "* 本名: driller\n",
    "\n",
    "### しごと\n",
    "\n",
    "* 本業: デリバティブのトレーダー\n",
    "* 副業: 先生"
   ]
  },
  {
   "cell_type": "markdown",
   "metadata": {
    "slideshow": {
     "slide_type": "subslide"
    }
   },
   "source": [
    "### finpy\n",
    "\n",
    "* Python x 金融のコミュニティ\n",
    "* 今年で2周年  \n",
    "  PyLadies Tokyoの2歳年下\n",
    "* 10/27に[もくもく会](https://fin-py.connpass.com/event/102692/)やります\n",
    "\n",
    "<img src=\"https://github.com/fin-py/logo/blob/master/finpy_200x200.png?raw=true\" width=100 hight=100>"
   ]
  },
  {
   "cell_type": "markdown",
   "metadata": {
    "slideshow": {
     "slide_type": "slide"
    }
   },
   "source": [
    "## こんかいのおだい\n",
    "\n",
    "Pythonの新しい書き方をまなぶ"
   ]
  },
  {
   "cell_type": "markdown",
   "metadata": {
    "slideshow": {
     "slide_type": "subslide"
    }
   },
   "source": [
    "### 人類にはまだ早い？\n",
    "* 早めに使うことで当事者意識が高まる  \n",
    "  生まれたときから知っている -> 記憶に残りやすい  \n",
    "  あとで知る -> アレなんだったっけ？\n",
    "* 技術の変化に耐性ができる  \n",
    "  古い技術に固執しない\n",
    "* ドヤれる"
   ]
  },
  {
   "cell_type": "markdown",
   "metadata": {
    "slideshow": {
     "slide_type": "subslide"
    }
   },
   "source": [
    "### 新しい書き方を知らない場合\n",
    "`os.path`を使ってすべての拡張子を取得する処理"
   ]
  },
  {
   "cell_type": "code",
   "execution_count": 3,
   "metadata": {
    "slideshow": {
     "slide_type": "fragment"
    }
   },
   "outputs": [
    {
     "name": "stdout",
     "output_type": "stream",
     "text": [
      "['.tar', '.gz']\n"
     ]
    }
   ],
   "source": [
    "import os\n",
    "\n",
    "\n",
    "def get_suffix(filepath):\n",
    "    while True:\n",
    "        filepath, suffix = os.path.splitext(filepath)\n",
    "        if suffix:\n",
    "            yield suffix\n",
    "        else:\n",
    "            break\n",
    "\n",
    "\n",
    "suffixes = [x for x in get_suffix(\"dir/filename.tar.gz\")][::-1]\n",
    "print(suffixes)"
   ]
  },
  {
   "cell_type": "markdown",
   "metadata": {
    "slideshow": {
     "slide_type": "subslide"
    }
   },
   "source": [
    "### 新しい書き方を知ってる場合\n",
    "`pathlib`使おうぜ"
   ]
  },
  {
   "cell_type": "code",
   "execution_count": 4,
   "metadata": {
    "slideshow": {
     "slide_type": "fragment"
    }
   },
   "outputs": [
    {
     "data": {
      "text/plain": [
       "['.tar', '.gz']"
      ]
     },
     "execution_count": 4,
     "metadata": {},
     "output_type": "execute_result"
    }
   ],
   "source": [
    "import pathlib\n",
    "\n",
    "pathlib.Path(\"dir/filename.tar.gz\").suffixes"
   ]
  },
  {
   "cell_type": "markdown",
   "metadata": {
    "slideshow": {
     "slide_type": "slide"
    }
   },
   "source": [
    "## Data Classes"
   ]
  },
  {
   "cell_type": "markdown",
   "metadata": {
    "hidePrompt": true,
    "slideshow": {
     "slide_type": "subslide"
    }
   },
   "source": [
    "### Data Classes\n",
    "\n",
    "* PEP557 で提案され、Python3.7で実装\n",
    "* \\_\\_init\\_\\_() や \\_\\_repr\\_\\_() のような特殊メソッドを自動で追加\n",
    "* メンバ変数は型アノテーションで定義できる"
   ]
  },
  {
   "cell_type": "markdown",
   "metadata": {
    "slideshow": {
     "slide_type": "subslide"
    }
   },
   "source": [
    "### namedtupleとの違い\n",
    "* 属性をミュータブル(デフォルト)/イミュータブルにできる\n",
    "* 通常のクラスとして扱える  \n",
    "  namedtupleは継承が必用\n",
    "* \\_\\_init\\_\\_の処理をカスタマイズできる"
   ]
  },
  {
   "cell_type": "markdown",
   "metadata": {
    "slideshow": {
     "slide_type": "subslide"
    }
   },
   "source": [
    "### 従来の書き方\n",
    "#### Data Classesがないとき"
   ]
  },
  {
   "cell_type": "code",
   "execution_count": 5,
   "metadata": {
    "slideshow": {
     "slide_type": "fragment"
    }
   },
   "outputs": [],
   "source": [
    "class Card:\n",
    "    def __init__(self, rank: int, suit: str) -> None:\n",
    "        self.rank = rank\n",
    "        self.suit = suit"
   ]
  },
  {
   "cell_type": "markdown",
   "metadata": {
    "slideshow": {
     "slide_type": "fragment"
    }
   },
   "source": [
    "`__init__` の引数と `self.attr` の代入が冗長"
   ]
  },
  {
   "cell_type": "markdown",
   "metadata": {
    "slideshow": {
     "slide_type": "subslide"
    }
   },
   "source": [
    "#### Data Classesがあるとき"
   ]
  },
  {
   "cell_type": "code",
   "execution_count": 6,
   "metadata": {
    "slideshow": {
     "slide_type": "fragment"
    }
   },
   "outputs": [],
   "source": [
    "@dataclasses.dataclass\n",
    "class Card37:\n",
    "    rank: int\n",
    "    suit: str"
   ]
  },
  {
   "cell_type": "markdown",
   "metadata": {
    "slideshow": {
     "slide_type": "fragment"
    }
   },
   "source": [
    "すっきり！"
   ]
  },
  {
   "cell_type": "markdown",
   "metadata": {
    "slideshow": {
     "slide_type": "subslide"
    }
   },
   "source": [
    "### mypyで型チェック"
   ]
  },
  {
   "cell_type": "code",
   "execution_count": 7,
   "metadata": {
    "slideshow": {
     "slide_type": "fragment"
    }
   },
   "outputs": [
    {
     "name": "stdout",
     "output_type": "stream",
     "text": [
      "<string>:13: error: Argument 1 to \"Card37\" has incompatible type \"str\"; expected \"int\"\n",
      "\n"
     ]
    },
    {
     "data": {
      "text/plain": [
       "Card37(rank='A', suit='♦')"
      ]
     },
     "execution_count": 7,
     "metadata": {},
     "output_type": "execute_result"
    }
   ],
   "source": [
    "%%typecheck\n",
    "# https://gist.github.com/knowsuchagency/f7b2203dd613756a45f816d6809f01a6\n",
    "import dataclasses\n",
    "\n",
    "\n",
    "@dataclasses.dataclass\n",
    "class Card37:\n",
    "    rank: int\n",
    "    suit: str\n",
    "\n",
    "\n",
    "Card37(1, \"♥\")\n",
    "Card37(\"A\", \"♦\")"
   ]
  },
  {
   "cell_type": "markdown",
   "metadata": {
    "slideshow": {
     "slide_type": "subslide"
    }
   },
   "source": [
    "### \\_\\_repr\\_\\_の実装\n",
    "#### Data Classesがないとき"
   ]
  },
  {
   "cell_type": "code",
   "execution_count": 8,
   "metadata": {
    "slideshow": {
     "slide_type": "fragment"
    }
   },
   "outputs": [
    {
     "data": {
      "text/plain": [
       "<__main__.Card at 0x7fef210fc128>"
      ]
     },
     "execution_count": 8,
     "metadata": {},
     "output_type": "execute_result"
    }
   ],
   "source": [
    "Card(5, \"♠\")"
   ]
  },
  {
   "cell_type": "markdown",
   "metadata": {
    "slideshow": {
     "slide_type": "subslide"
    }
   },
   "source": [
    "#### Data Classesがあるとき"
   ]
  },
  {
   "cell_type": "code",
   "execution_count": 9,
   "metadata": {
    "slideshow": {
     "slide_type": "fragment"
    }
   },
   "outputs": [
    {
     "data": {
      "text/plain": [
       "Card37(rank=5, suit='♠')"
      ]
     },
     "execution_count": 9,
     "metadata": {},
     "output_type": "execute_result"
    }
   ],
   "source": [
    "Card37(5, \"♠\")"
   ]
  },
  {
   "cell_type": "markdown",
   "metadata": {
    "slideshow": {
     "slide_type": "subslide"
    }
   },
   "source": [
    "#### 従来のクラスで同じ機能を実装"
   ]
  },
  {
   "cell_type": "code",
   "execution_count": 10,
   "metadata": {
    "slideshow": {
     "slide_type": "fragment"
    }
   },
   "outputs": [
    {
     "data": {
      "text/plain": [
       "Card(rank=5, suit='♠')"
      ]
     },
     "execution_count": 10,
     "metadata": {},
     "output_type": "execute_result"
    }
   ],
   "source": [
    "class Card:\n",
    "    def __init__(self, rank: int, suit: str) -> None:\n",
    "        self.rank = rank\n",
    "        self.suit = suit\n",
    "\n",
    "    def __repr__(self):\n",
    "        return f\"{__class__.__name__}(rank={self.rank!r}, suit={self.suit!r})\"\n",
    "\n",
    "\n",
    "Card(5, \"♠\")"
   ]
  },
  {
   "cell_type": "markdown",
   "metadata": {
    "slideshow": {
     "slide_type": "fragment"
    }
   },
   "source": [
    "めんどくさい"
   ]
  },
  {
   "cell_type": "markdown",
   "metadata": {
    "slideshow": {
     "slide_type": "subslide"
    }
   },
   "source": [
    "### order\n",
    "#### Data Classesがあるとき"
   ]
  },
  {
   "cell_type": "code",
   "execution_count": 11,
   "metadata": {
    "slideshow": {
     "slide_type": "fragment"
    }
   },
   "outputs": [
    {
     "name": "stdout",
     "output_type": "stream",
     "text": [
      "False\n"
     ]
    },
    {
     "data": {
      "text/plain": [
       "[Card37(rank=4, suit='♥'), Card37(rank=11, suit='♣')]"
      ]
     },
     "execution_count": 11,
     "metadata": {},
     "output_type": "execute_result"
    }
   ],
   "source": [
    "@dataclasses.dataclass(order=True)\n",
    "class Card37:\n",
    "    rank: int\n",
    "    suit: str\n",
    "\n",
    "\n",
    "c1 = Card37(11, \"♣\")\n",
    "c2 = Card37(4, \"♥\")\n",
    "\n",
    "print(c1 < c2)\n",
    "sorted([c1, c2])"
   ]
  },
  {
   "cell_type": "markdown",
   "metadata": {
    "slideshow": {
     "slide_type": "subslide"
    }
   },
   "source": [
    "#### Data Classesがないとき"
   ]
  },
  {
   "cell_type": "code",
   "execution_count": 12,
   "metadata": {
    "slideshow": {
     "slide_type": "fragment"
    }
   },
   "outputs": [
    {
     "name": "stdout",
     "output_type": "stream",
     "text": [
      "False\n"
     ]
    },
    {
     "data": {
      "text/plain": [
       "[Card(rank=4, suit='♥'), Card(rank=11, suit='♣')]"
      ]
     },
     "execution_count": 12,
     "metadata": {},
     "output_type": "execute_result"
    }
   ],
   "source": [
    "class Card:\n",
    "    def __init__(self, rank: int, suit: str) -> None:\n",
    "        self.rank = rank\n",
    "        self.suit = suit\n",
    "\n",
    "    def __repr__(self):\n",
    "        return f\"{__class__.__name__}(rank={self.rank!r}, suit={self.suit!r})\"\n",
    "\n",
    "    def __lt__(self, other):\n",
    "        return (self.rank, self.suit) < (other.rank, other.suit)\n",
    "\n",
    "\n",
    "c1 = Card(11, \"♣\")\n",
    "c2 = Card(4, \"♥\")\n",
    "\n",
    "print(c1 < c2)\n",
    "sorted([c1, c2])"
   ]
  },
  {
   "cell_type": "markdown",
   "metadata": {
    "slideshow": {
     "slide_type": "subslide"
    }
   },
   "source": [
    "### 継承"
   ]
  },
  {
   "cell_type": "code",
   "execution_count": 13,
   "metadata": {
    "slideshow": {
     "slide_type": "fragment"
    }
   },
   "outputs": [
    {
     "data": {
      "text/plain": [
       "[Daifugo(rank=13, suit='♠'),\n",
       " Daifugo(rank=1, suit='♣'),\n",
       " Daifugo(rank=2, suit='♦')]"
      ]
     },
     "execution_count": 13,
     "metadata": {},
     "output_type": "execute_result"
    }
   ],
   "source": [
    "@dataclasses.dataclass\n",
    "class Daifugo(Card37):\n",
    "    def change_rank(self, rank):\n",
    "        if rank < 3:\n",
    "            return rank + 13\n",
    "        else:\n",
    "            return rank\n",
    "\n",
    "    def __lt__(self, other):\n",
    "        return (self.change_rank(self.rank), self.suit) < (\n",
    "            self.change_rank(other.rank),\n",
    "            other.suit,\n",
    "        )\n",
    "\n",
    "\n",
    "sorted([Daifugo(2, \"♦\"), Daifugo(13, \"♠\"), Daifugo(1, \"♣\")])"
   ]
  },
  {
   "cell_type": "markdown",
   "metadata": {
    "slideshow": {
     "slide_type": "subslide"
    }
   },
   "source": [
    "### イミュータブル"
   ]
  },
  {
   "cell_type": "code",
   "execution_count": 14,
   "metadata": {
    "slideshow": {
     "slide_type": "fragment"
    }
   },
   "outputs": [],
   "source": [
    "@dataclasses.dataclass(frozen=True)\n",
    "class Tax:\n",
    "    rate: float = 0.08\n",
    "\n",
    "tax = Tax()"
   ]
  },
  {
   "cell_type": "code",
   "execution_count": 16,
   "metadata": {
    "deletable": false,
    "editable": false,
    "run_control": {
     "frozen": true
    },
    "slideshow": {
     "slide_type": "fragment"
    }
   },
   "outputs": [
    {
     "ename": "FrozenInstanceError",
     "evalue": "cannot assign to field 'rate'",
     "output_type": "error",
     "traceback": [
      "\u001b[0;31m---------------------------------------------------------------------------\u001b[0m",
      "\u001b[0;31mFrozenInstanceError\u001b[0m                       Traceback (most recent call last)",
      "\u001b[0;32m<ipython-input-16-f248540f3307>\u001b[0m in \u001b[0;36m<module>\u001b[0;34m()\u001b[0m\n\u001b[0;32m----> 1\u001b[0;31m \u001b[0mtax\u001b[0m\u001b[0;34m.\u001b[0m\u001b[0mrate\u001b[0m \u001b[0;34m=\u001b[0m \u001b[0;36m0.1\u001b[0m\u001b[0;34m\u001b[0m\u001b[0m\n\u001b[0m",
      "\u001b[0;32m<string>\u001b[0m in \u001b[0;36m__setattr__\u001b[0;34m(self, name, value)\u001b[0m\n",
      "\u001b[0;31mFrozenInstanceError\u001b[0m: cannot assign to field 'rate'"
     ]
    }
   ],
   "source": [
    "tax.rate = 0.1"
   ]
  },
  {
   "cell_type": "markdown",
   "metadata": {
    "slideshow": {
     "slide_type": "subslide"
    }
   },
   "source": [
    "### 辞書のキーに使える"
   ]
  },
  {
   "cell_type": "code",
   "execution_count": 15,
   "metadata": {
    "slideshow": {
     "slide_type": "fragment"
    }
   },
   "outputs": [
    {
     "data": {
      "text/plain": [
       "{Tax(rate=0.08): 'japan'}"
      ]
     },
     "execution_count": 15,
     "metadata": {},
     "output_type": "execute_result"
    }
   ],
   "source": [
    "{tax: \"japan\"}"
   ]
  },
  {
   "cell_type": "markdown",
   "metadata": {
    "slideshow": {
     "slide_type": "slide"
    }
   },
   "source": [
    "### さいごに\n",
    "\n",
    "本LTは __LT駆動学習__ です  \n",
    "\n",
    "1. いずれは使ってみたい、学んでみたい技術がある\n",
    "2. 発表できそうなイベントがある\n",
    "3. 先に発表することを決めてから学習する\n",
    "\n",
    "×: いつかやってみよう  \n",
    "◯: やるキッカケを先に作ってしまう"
   ]
  },
  {
   "cell_type": "markdown",
   "metadata": {
    "slideshow": {
     "slide_type": "slide"
    }
   },
   "source": [
    "### TBD\n",
    "* init\n",
    "  - \\_\\_post_init\\_\\_\n",
    "  - dataclasses.InitVar\n",
    "* ユーティリティ関数  \n",
    "  - dataclasses.fields\n",
    "  - dataclasses.asdict"
   ]
  }
 ],
 "metadata": {
  "celltoolbar": "Slideshow",
  "kernelspec": {
   "display_name": "Python 3",
   "language": "python",
   "name": "python3"
  },
  "language_info": {
   "codemirror_mode": {
    "name": "ipython",
    "version": 3
   },
   "file_extension": ".py",
   "mimetype": "text/x-python",
   "name": "python",
   "nbconvert_exporter": "python",
   "pygments_lexer": "ipython3",
   "version": "3.7.0"
  }
 },
 "nbformat": 4,
 "nbformat_minor": 2
}
